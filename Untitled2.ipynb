{
 "cells": [
  {
   "cell_type": "code",
   "execution_count": 1,
   "metadata": {},
   "outputs": [],
   "source": [
    "import pandas as pd\n",
    "import numpy as np\n",
    "import pylab as plt\n",
    "import os\n",
    "import sys\n",
    "from sklearn.linear_model import LinearRegression\n",
    "import seaborn as sns\n",
    "from SeismicData import SeismicData\n",
    "from WellData import WellData\n",
    "import SegRead as s\n",
    "from time import time\n",
    "from LAS import Converter\n",
    "import pandas as pd\n",
    "\n",
    "plt.style.use('seaborn-white')"
   ]
  },
  {
   "cell_type": "code",
   "execution_count": 2,
   "metadata": {},
   "outputs": [],
   "source": [
    "directory=\"ГореявчевНикита/\""
   ]
  },
  {
   "cell_type": "code",
   "execution_count": 3,
   "metadata": {},
   "outputs": [],
   "source": [
    "sgy_filename = directory+'w1_cdp.sgy'\n",
    "seismicData=SeismicData.SeismicData(sgy_filename)\n",
    "sgy_data = seismicData.data[:, seismicData.head.index]\n"
   ]
  },
  {
   "cell_type": "code",
   "execution_count": 4,
   "metadata": {},
   "outputs": [],
   "source": [
    "   \n",
    "\n",
    "def find_nearest_observations(head, well_X, well_Y):\n",
    "    head['well_X'] = well_X;\n",
    "    head['well_Y'] = well_Y\n",
    "    temp=((head[['CDP_X', 'CDP_Y']].values - head[['well_X', 'well_Y']].values)**2).sum(axis=1)\n",
    "    temp = np.array(temp,dtype=np.float64)\n",
    "    head[\"OFF\"]=np.sqrt(temp)\n",
    "    return head, head[head['OFF']==head['OFF'].min()].index\n",
    "\n",
    "\n",
    "def plot_wells(wells_dict):\n",
    "    for w in wells_dict:\n",
    "        plt.plot(w['x'], w['y'], w['clr'], label = w['label'])\n",
    "    plt.legend()\n"
   ]
  },
  {
   "cell_type": "code",
   "execution_count": 5,
   "metadata": {},
   "outputs": [
    {
     "name": "stdout",
     "output_type": "stream",
     "text": [
      "{'well_X': 500001.0, 'well_Y': 6637623.6}\n"
     ]
    }
   ],
   "source": [
    "path = directory +\"Z-Zim-1jgw.las\"\n",
    "wellData=WellData.WellData(path= path,\n",
    "                params={\"XCRD\":\"well_X\",\"YCRD\":\"well_Y\"},\n",
    "                data={\"dts\":\"Vs\",\"dt\":\"Vp\"},del_invalid=True)\n",
    "    \n",
    "well_priory = wellData.convert_to_df_data()\n",
    "well_priory['Vs'] = 1 / well_priory['Vs'].values\n",
    "well_priory['Vp'] = 1 / well_priory['Vp'].values\n",
    "head, indexies = find_nearest_observations(seismicData.head, wellData.well_X, wellData.well_Y)\n"
   ]
  },
  {
   "cell_type": "code",
   "execution_count": 6,
   "metadata": {},
   "outputs": [],
   "source": [
    "path = directory +\"Z-Zim-1_TIME.las\"\n",
    "wellData2=WellData.WellData(path,data={\"time\":\"time\",\"depth\":\"depth\",\"tvdss\":\"tvds\"},\n",
    "                    del_invalid=True)\n",
    "\n",
    "well_T=wellData2.convert_to_df_data()\n",
    "well_T[\"time\"]=well_T[\"time\"]*1000"
   ]
  },
  {
   "cell_type": "code",
   "execution_count": 7,
   "metadata": {},
   "outputs": [
    {
     "data": {
      "image/png": "[encoded data removed]",
      "text/plain": [
       "<Figure size 432x288 with 1 Axes>"
      ]
     },
     "metadata": {},
     "output_type": "display_data"
    }
   ],
   "source": [
    "\n",
    "records = {'label': 'Данные', 'x': seismicData.head['CDP_X'], 'y': seismicData.head['CDP_Y'], 'clr':'b.'}\n",
    "wells = {'label': 'Скважина', 'x': [wellData.well_X], 'y': [wellData.well_Y], 'clr':'r.'}\n",
    "plot_wells([records, wells])\n",
    "\n",
    "data = sgy_data[:,indexies]"
   ]
  },
  {
   "cell_type": "code",
   "execution_count": null,
   "metadata": {},
   "outputs": [],
   "source": []
  },
  {
   "cell_type": "code",
   "execution_count": 26,
   "metadata": {},
   "outputs": [],
   "source": [
    "import sys\n",
    "from PyQt5.QtWidgets import QDialog, QApplication, QPushButton, QVBoxLayout, QLineEdit, QHBoxLayout, QLabel\n",
    "from PyQt5 import QtWidgets\n",
    "from matplotlib.backends.backend_qt5agg import FigureCanvasQTAgg as FigureCanvas\n",
    "from matplotlib.backends.backend_qt5agg import NavigationToolbar2QT as NavigationToolbar\n",
    "import matplotlib.pyplot as plt\n",
    "from matplotlib.widgets import SpanSelector\n",
    "import random\n",
    "from matplotlib.figure import Figure\n",
    "\n",
    "%gui qt\n",
    "\n",
    "class RangeSelector(QDialog):\n",
    "    def __init__(self, image, app, parent=None):\n",
    "        super(RangeSelector, self).__init__(parent)\n",
    "        \n",
    "        self.app = app\n",
    "        self.image = image\n",
    "        self.figure = Figure(figsize=(10, 20))\n",
    "        \n",
    "        self.canvas = FigureCanvas(self.figure)\n",
    "        self.draw_plots()\n",
    "        \n",
    "        \n",
    "        self.toolbar = NavigationToolbar(self.canvas, self)\n",
    "        self.button = QPushButton('Finish')\n",
    "        self.button.clicked.connect(self.on_result)\n",
    "        \n",
    "        self.text_top = QLabel('Top: ')\n",
    "        self.top_value = QLineEdit('')\n",
    "        \n",
    "        self.text_down = QLabel('Down: ')\n",
    "        self.down_value = QLineEdit()\n",
    "        \n",
    "        vbox_layout = QVBoxLayout()\n",
    "        vbox_layout.addWidget(self.toolbar)\n",
    "        vbox_layout.addWidget(self.canvas)\n",
    "        \n",
    "        hbox_layout = QHBoxLayout()\n",
    "        hbox_layout.addWidget(self.button)\n",
    "        hbox_layout.addWidget(self.text_top)\n",
    "        hbox_layout.addWidget(self.top_value)\n",
    "        hbox_layout.addWidget(self.text_down)\n",
    "        hbox_layout.addWidget(self.down_value)\n",
    "        \n",
    "        vbox_layout.addLayout(hbox_layout)\n",
    "        \n",
    "        self.setLayout(vbox_layout)\n",
    "\n",
    "        \n",
    "        self.ymin, self.ymax = 0, 0\n",
    "        self.result = None\n",
    "        \n",
    "    def on_result(self):\n",
    "        ymax_text = self.top_value.text()\n",
    "        ymin_text = self.down_value.text()\n",
    "        \n",
    "        if ymax_text.isdigit() and ymin_text.isdigit():\n",
    "            min_y, max_y = int(ymin_text), int(ymax_text)\n",
    "            self.result = (self.image[min_y:max_y, :], min_y, max_y)\n",
    "            self.close()\n",
    "            QtWidgets.QApplication.quit()\n",
    "    \n",
    "    def onselect(self, ymin, ymax):\n",
    "        self.ymin, self.ymax = int(ymin), int(ymax)\n",
    "        self.top_value.setText(str(self.ymax))\n",
    "        self.down_value.setText(str(self.ymin))\n",
    "        extent = [0, self.image.shape[1], ymin, ymax]\n",
    "        self.sub_axs.imshow(self.image[self.ymin:self.ymax, :], cmap='seismic', extent=extent)\n",
    "        self.canvas.draw()\n",
    "        \n",
    "    def draw_plots(self):\n",
    "        self.figure.clear()\n",
    "        self.range_axs = self.figure.add_subplot(121)\n",
    "        self.sub_axs = self.figure.add_subplot(122)\n",
    "        self.range_axs.imshow(self.image, aspect='auto', cmap='seismic')\n",
    "        self.sub_axs.imshow(self.image, aspect='auto', cmap='seismic')\n",
    "        self.span_selector = SpanSelector(self.range_axs, self.onselect, 'vertical', useblit=True,\n",
    "            rectprops=dict(alpha=0.5, facecolor='gray'), span_stays=True)\n",
    "        self.canvas.draw()\n",
    "        \n",
    "app = QtWidgets.QApplication.instance()\n",
    "if app is None:\n",
    "    app = QtWidgets.QApplication(sys.argv)\n",
    "rangeSelector = RangeSelector(data, app)\n",
    "rangeSelector.show()"
   ]
  },
  {
   "cell_type": "code",
   "execution_count": null,
   "metadata": {},
   "outputs": [],
   "source": []
  },
  {
   "cell_type": "code",
   "execution_count": 27,
   "metadata": {},
   "outputs": [
    {
     "ename": "TypeError",
     "evalue": "cannot unpack non-iterable NoneType object",
     "output_type": "error",
     "traceback": [
      "\u001b[1;31m---------------------------------------------------------------------------\u001b[0m",
      "\u001b[1;31mTypeError\u001b[0m                                 Traceback (most recent call last)",
      "\u001b[1;32m<ipython-input-27-3f35a7845883>\u001b[0m in \u001b[0;36m<module>\u001b[1;34m\u001b[0m\n\u001b[1;32m----> 1\u001b[1;33m \u001b[0mresult\u001b[0m\u001b[1;33m,\u001b[0m \u001b[0mymin\u001b[0m\u001b[1;33m,\u001b[0m \u001b[0mymax\u001b[0m \u001b[1;33m=\u001b[0m \u001b[0mrangeSelector\u001b[0m\u001b[1;33m.\u001b[0m\u001b[0mresult\u001b[0m\u001b[1;33m\u001b[0m\u001b[1;33m\u001b[0m\u001b[0m\n\u001b[0m\u001b[0;32m      2\u001b[0m \u001b[0mplt\u001b[0m\u001b[1;33m.\u001b[0m\u001b[0mimshow\u001b[0m\u001b[1;33m(\u001b[0m\u001b[0mresult\u001b[0m\u001b[1;33m,\u001b[0m \u001b[0mcmap\u001b[0m\u001b[1;33m=\u001b[0m\u001b[1;34m'seismic'\u001b[0m\u001b[1;33m,\u001b[0m \u001b[0mextent\u001b[0m\u001b[1;33m=\u001b[0m\u001b[1;33m[\u001b[0m\u001b[1;36m0\u001b[0m\u001b[1;33m,\u001b[0m \u001b[0mresult\u001b[0m\u001b[1;33m.\u001b[0m\u001b[0mshape\u001b[0m\u001b[1;33m[\u001b[0m\u001b[1;36m1\u001b[0m\u001b[1;33m]\u001b[0m\u001b[1;33m,\u001b[0m \u001b[0mymin\u001b[0m\u001b[1;33m,\u001b[0m \u001b[0mymax\u001b[0m\u001b[1;33m]\u001b[0m\u001b[1;33m)\u001b[0m\u001b[1;33m\u001b[0m\u001b[1;33m\u001b[0m\u001b[0m\n",
      "\u001b[1;31mTypeError\u001b[0m: cannot unpack non-iterable NoneType object"
     ]
    }
   ],
   "source": [
    "result, ymin, ymax = rangeSelector.result \n",
    "plt.imshow(result, cmap='seismic', extent=[0, result.shape[1], ymin, ymax])"
   ]
  },
  {
   "cell_type": "code",
   "execution_count": 28,
   "metadata": {},
   "outputs": [
    {
     "data": {
      "application/vnd.jupyter.widget-view+json": {
       "model_id": "27e7c76230a9493b82e8f50ff946559e",
       "version_major": 2,
       "version_minor": 0
      },
      "text/plain": [
       "HBox(children=(IntSlider(value=1000, description='down', layout=Layout(border='0px solid red', height='571.714…"
      ]
     },
     "metadata": {},
     "output_type": "display_data"
    }
   ],
   "source": [
    "import matplotlib.pyplot as plt\n",
    "import matplotlib as mpl\n",
    "from ipywidgets import HBox, Layout, interactive, widgets\n",
    "\n",
    "image = data\n",
    "max_value = image.shape[0]\n",
    "\n",
    "def get_int_slider(name, max_value):\n",
    "    layout = widgets.Layout(border='0px solid red',\n",
    "                            height=str(max_value/3.5) + 'px', width='40px',\n",
    "                            margin='30px 30px 0px 0px',padding='0px 0px 0px 0px')\n",
    "    int_slider = widgets.IntSlider(\n",
    "        value=max_value//2,\n",
    "        min=0,\n",
    "        max=max_value,\n",
    "        step=1,\n",
    "        description=name,\n",
    "        layout=layout,\n",
    "        orientation='vertical',\n",
    "    )\n",
    "    return int_slider\n",
    "\n",
    "    \n",
    "selected_data = None\n",
    "\n",
    "def update(down, top):\n",
    "\n",
    "    global selected_data\n",
    "    \"\"\"Remove old lines from plot and plot new one\"\"\"\n",
    "    fig, (range_axs, crop_axs) = plt.subplots(1, 2, figsize=(7, 10))\n",
    "    range_axs.imshow(image, cmap='seismic', aspect='auto')\n",
    "    range_axs.axhline(y=down, color='lawngreen', linestyle='-', linewidth=3)\n",
    "    range_axs.axhline(y=top, color='cyan', linestyle='-', linewidth=3)\n",
    "    range_axs.set_ylim(0, image.shape[0])\n",
    "    down, top =  (down, top) if down < top else (0, image.shape[0])\n",
    "    to_show = image[down:top, :] \n",
    "\n",
    "    crop_axs.imshow(to_show, cmap='seismic', extent = [0, to_show.shape[1], down, top])\n",
    "    crop_axs.set_ylim(down, top)\n",
    "    selected_data = to_show\n",
    "    plt.show()\n",
    "\n",
    "w = interactive(update, down=get_int_slider('down', max_value), top=get_int_slider('top', max_value))\n",
    "\n",
    "b = Layout(display='inline-flex', flex_flow='row', justify_content='flex-start', align_items='center')\n",
    "display(HBox([w.children[0], w.children[1],  w.children[2]], layout=b))"
   ]
  },
  {
   "cell_type": "code",
   "execution_count": 18,
   "metadata": {},
   "outputs": [],
   "source": [
    "from seislab.src import segyrw \n",
    "import sys\n",
    "import numpy as np\n",
    "import SegRead as s\n",
    "from time import time\n",
    "\n",
    "\n",
    "sgy_filename = directory+'307_Stk_w1.sgy'\n",
    "seismicData=SeismicData.SeismicData(sgy_filename)\n",
    "\n",
    "data = seismicData.data\n",
    "head = seismicData.head\n",
    "dt = 2\n",
    "Tdata = np.arange(0, np.shape(data)[0]*dt,dt) / 1000"
   ]
  },
  {
   "cell_type": "code",
   "execution_count": 19,
   "metadata": {},
   "outputs": [
    {
     "data": {
      "application/vnd.jupyter.widget-view+json": {
       "model_id": "26e5e532ff0948ae94b1f55bef1c2d1f",
       "version_major": 2,
       "version_minor": 0
      },
      "text/plain": [
       "interactive(children=(IntSlider(value=42036, description='cdp', max=58016, min=26196, step=72), IntSlider(valu…"
      ]
     },
     "metadata": {},
     "output_type": "display_data"
    }
   ],
   "source": [
    "from ipywidgets import widgets\n",
    "import matplotlib.pyplot as plt\n",
    "%matplotlib inline\n",
    "\n",
    "\n",
    "cdp_min, cdp_max, time_min, time_max = [head['CDP_TRACE'].min(),head['CDP_TRACE'].max(), 0, dt * seismicData.data.shape[0]]\n",
    "time_step = dt\n",
    "cdp_step = (cdp_max - cdp_min) // seismicData.data.shape[1]\n",
    "(cdp_min, cdp_max, cdp_step),  (time_min, time_max, time_step)\n",
    "\n",
    "\n",
    "@widgets.interact(cdp=(cdp_min, cdp_max, cdp_step), time=(time_min, time_max, time_step))\n",
    "def interactive_traces(cdp, time):\n",
    "    fig, axs = plt.subplots(figsize = (14,8))\n",
    "    axs.set_xlabel('CDP')\n",
    "    axs.set_ylabel('T, ms')    \n",
    "    time_top = time//time_step\n",
    "    cdp_top = (cdp - cdp_min)//cdp_step\n",
    "    if time_top != 0 and cdp_top != 0:\n",
    "        im = axs.imshow(data[:time_top, :cdp_top], cmap='seismic', aspect='auto', \n",
    "                    extent = [head['CDP_TRACE'].min(), cdp, time, 0]\n",
    "                    )\n",
    "        fig.colorbar(im, ax=axs)"
   ]
  },
  {
   "cell_type": "code",
   "execution_count": 20,
   "metadata": {},
   "outputs": [
    {
     "data": {
      "text/plain": [
       "[<matplotlib.lines.Line2D at 0x25487513d90>]"
      ]
     },
     "execution_count": 20,
     "metadata": {},
     "output_type": "execute_result"
    },
    {
     "data": {
      "image/png": "[encoded data removed]",
      "text/plain": [
       "<Figure size 720x360 with 1 Axes>"
      ]
     },
     "metadata": {
      "needs_background": "light"
     },
     "output_type": "display_data"
    }
   ],
   "source": [
    "fig,axs = plt.subplots(figsize = (10,5))\n",
    "axs.plot(head['CDP_X'],head['CDP_Y'],linewidth = 0,marker='.')"
   ]
  },
  {
   "cell_type": "code",
   "execution_count": 21,
   "metadata": {},
   "outputs": [
    {
     "data": {
      "text/plain": [
       "(2001, 21, 21)"
      ]
     },
     "execution_count": 21,
     "metadata": {},
     "output_type": "execute_result"
    }
   ],
   "source": [
    "xline_size = head['XLINE_NO'].values.max() - head['XLINE_NO'].values.min()\n",
    "yline_size = head['ILINE_NO'].values.max() - head['ILINE_NO'].values.min()\n",
    "data_cube = data.reshape((data.shape[0], xline_size + 1, yline_size + 1))\n",
    "data_cube.shape"
   ]
  },
  {
   "cell_type": "code",
   "execution_count": 22,
   "metadata": {},
   "outputs": [
    {
     "data": {
      "application/vnd.jupyter.widget-view+json": {
       "model_id": "5b320bc6342946bcbd39f1e7c8cd20d0",
       "version_major": 2,
       "version_minor": 0
      },
      "text/plain": [
       "interactive(children=(IntSlider(value=10, description='inline', layout=Layout(border='0px solid red', margin='…"
      ]
     },
     "metadata": {},
     "output_type": "display_data"
    },
    {
     "data": {
      "text/plain": [
       "<function __main__.explore_cube.<locals>.show_cube(inline, xline, time, w)>"
      ]
     },
     "execution_count": 22,
     "metadata": {},
     "output_type": "execute_result"
    }
   ],
   "source": [
    "from matplotlib.pyplot import draw\n",
    "import matplotlib.pyplot as plt\n",
    "\n",
    "def get_int_slider(name, max_value):\n",
    "    layout = widgets.Layout(border='0px solid red', width='700px',\n",
    "                            margin='30px 30px 0px 0px',padding='0px 0px 0px 0px')\n",
    "    int_slider = widgets.IntSlider(\n",
    "        value=max_value//2,\n",
    "        min=0,\n",
    "        max=max_value,\n",
    "        step=1,\n",
    "        description=name,\n",
    "        layout=layout,\n",
    "        orientation='horizontal',\n",
    "    )\n",
    "    return int_slider\n",
    "\n",
    "def explore_cube(data_cube, head):\n",
    "    times, inlines_count, xlines_count = data_cube.shape\n",
    "    inline_min = head['ILINE_NO'].min()\n",
    "    xline_min = head['XLINE_NO'].min()\n",
    "\n",
    "    tw = widgets.ToggleButtons(\n",
    "        options=['ILINE_NO', 'XLINE_NO', 'TIME'],\n",
    "        description='DIM:',\n",
    "        disabled=False,\n",
    "        button_style='', \n",
    "    )\n",
    "    @widgets.interact(inline=get_int_slider('inline', inlines_count - 1),\n",
    "                      xline=get_int_slider('xline', xlines_count - 1), time=get_int_slider('time', times - 1), w = tw)\n",
    "    def show_cube(inline, xline, time, w):\n",
    "        \n",
    "        figsize = (8,8)\n",
    "        aspect='auto'\n",
    "        if w == 'INLINE':\n",
    "            sub_head = head[head[w] == inline_min + inline] \n",
    "            to_show = data_cube[:, :, inline]\n",
    "        elif w == 'XLINE':\n",
    "            sub_head = head[head[w] == xline_min + xline] \n",
    "            to_show = data_cube[:, xline, :]\n",
    "        else:\n",
    "            to_show = data_cube[time, :, :]\n",
    "            sub_head = head\n",
    "            aspect, figsize = None, (8, 8)\n",
    "            \n",
    "        fig, axs = plt.subplots(1, 2, figsize = figsize, gridspec_kw={'width_ratios': [1, 3]})\n",
    "        cdp_x_active = sub_head['CDP_X']\n",
    "        cdp_y_active = sub_head['CDP_Y']\n",
    "        axs[0].imshow(to_show, cmap='seismic', aspect=aspect, interpolation='None')\n",
    "        axs[1].plot(head['CDP_X'], head['CDP_Y'], 'b.')\n",
    "        axs[1].plot(cdp_x_active, cdp_y_active, 'r*')\n",
    "        plt.show()\n",
    "    return show_cube\n",
    "\n",
    "explore_cube(data_cube, head)"
   ]
  },
  {
   "cell_type": "code",
   "execution_count": 29,
   "metadata": {},
   "outputs": [
    {
     "data": {
      "text/plain": [
       "array([[[  1.26418854e-06,   9.41119197e-07,   7.99321242e-07, ...,\n",
       "           3.21084826e-06,   2.15227647e-06,   9.91914021e-07],\n",
       "        [  3.75001889e-07,  -1.07859535e-07,  -1.99554904e-07, ...,\n",
       "           4.11378096e-06,   2.98216855e-06,   1.70703333e-06],\n",
       "        [ -9.93789399e-07,  -1.65345955e-06,  -1.69446594e-06, ...,\n",
       "           3.98351949e-06,   2.93911125e-06,   1.79429571e-06],\n",
       "        ..., \n",
       "        [  2.02935917e-06,   8.09664300e-07,  -9.05014303e-08, ...,\n",
       "           2.59470471e-06,   3.03851175e-06,   3.60829199e-06],\n",
       "        [  4.13921498e-06,   2.56181647e-06,   1.05133313e-06, ...,\n",
       "           2.43721297e-06,   3.08601921e-06,   3.87156888e-06],\n",
       "        [  5.62806963e-06,   3.86409465e-06,   1.99675924e-06, ...,\n",
       "           2.96483086e-06,   3.66716085e-06,   4.33587411e-06]],\n",
       "\n",
       "       [[  2.96325925e-06,   2.33640185e-06,   1.78460505e-06, ...,\n",
       "           3.33113894e-06,   1.78728260e-06,  -2.50408448e-07],\n",
       "        [  2.00788418e-06,   1.21721314e-06,   7.09882272e-07, ...,\n",
       "           4.12240479e-06,   2.40252484e-06,   2.85461965e-07],\n",
       "        [  4.37033179e-07,  -5.09229437e-07,  -9.13761085e-07, ...,\n",
       "           3.77427205e-06,   2.18828245e-06,   3.83490146e-07],\n",
       "        ..., \n",
       "        [  3.83786482e-06,   2.36671076e-06,   1.23400332e-06, ...,\n",
       "           4.88549176e-06,   4.46786635e-06,   4.47362982e-06],\n",
       "        [  6.28561429e-06,   4.29963529e-06,   2.35813059e-06, ...,\n",
       "           5.05726530e-06,   4.94367941e-06,   5.23450126e-06],\n",
       "        [  8.17801629e-06,   5.81569384e-06,   3.26758891e-06, ...,\n",
       "           5.87911472e-06,   5.98596125e-06,   6.18840841e-06]],\n",
       "\n",
       "       [[  4.03192007e-06,   3.08732979e-06,   2.10385497e-06, ...,\n",
       "           5.01984232e-06,   3.07714072e-06,   3.06168431e-07],\n",
       "        [  3.55682369e-06,   2.45411229e-06,   1.45159720e-06, ...,\n",
       "           5.13575833e-06,   2.93819630e-06,   1.28864315e-07],\n",
       "        [  2.61884998e-06,   1.41994315e-06,   5.22206449e-07, ...,\n",
       "           3.99134115e-06,   1.99388705e-06,  -2.94082156e-07],\n",
       "        ..., \n",
       "        [  6.62146340e-06,   5.47221407e-06,   4.52259155e-06, ...,\n",
       "           8.18300941e-06,   6.98512758e-06,   6.34798289e-06],\n",
       "        [  8.72793862e-06,   7.08014340e-06,   5.31365458e-06, ...,\n",
       "           8.21611138e-06,   7.48355069e-06,   7.27364477e-06],\n",
       "        [  1.06964808e-05,   8.50314154e-06,   5.91243588e-06, ...,\n",
       "           8.63203331e-06,   8.38642245e-06,   8.28021439e-06]],\n",
       "\n",
       "       ..., \n",
       "       [[ -1.03292681e-04,  -1.12698195e-04,  -1.22694022e-04, ...,\n",
       "          -5.39459506e-06,  -1.13266369e-05,  -1.29813388e-05],\n",
       "        [ -6.87337597e-05,  -8.06838798e-05,  -9.81483754e-05, ...,\n",
       "          -2.85981077e-05,  -2.44170078e-05,  -1.69077539e-05],\n",
       "        [ -3.65433370e-05,  -4.96332796e-05,  -7.21774995e-05, ...,\n",
       "          -4.77787544e-05,  -3.22446140e-05,  -1.51046925e-05],\n",
       "        ..., \n",
       "        [ -1.76950169e-04,  -1.84869772e-04,  -1.94968408e-04, ...,\n",
       "          -4.95691202e-05,  -5.75373997e-05,  -7.67505117e-05],\n",
       "        [ -1.88193837e-04,  -1.95697838e-04,  -2.04245589e-04, ...,\n",
       "          -4.90476814e-05,  -6.51295704e-05,  -9.30577953e-05],\n",
       "        [ -1.94089705e-04,  -1.97818910e-04,  -2.02058305e-04, ...,\n",
       "          -4.55398113e-05,  -6.69698347e-05,  -9.90145345e-05]],\n",
       "\n",
       "       [[ -6.22452935e-05,  -6.84688712e-05,  -7.89695769e-05, ...,\n",
       "          -7.74027285e-06,  -8.89765488e-06,  -6.33515447e-06],\n",
       "        [ -4.18719719e-05,  -4.82423347e-05,  -6.32590964e-05, ...,\n",
       "          -3.89817287e-05,  -3.21402622e-05,  -2.06412369e-05],\n",
       "        [ -3.17744853e-05,  -3.73888324e-05,  -5.37099113e-05, ...,\n",
       "          -6.58952631e-05,  -4.97936708e-05,  -2.90874013e-05],\n",
       "        ..., \n",
       "        [ -1.65482415e-04,  -1.61228440e-04,  -1.63164106e-04, ...,\n",
       "          -1.01751953e-04,  -1.07345026e-04,  -1.21630481e-04],\n",
       "        [ -1.71891705e-04,  -1.65955760e-04,  -1.68150465e-04, ...,\n",
       "          -1.05315601e-04,  -1.18648299e-04,  -1.40932127e-04],\n",
       "        [ -1.77635739e-04,  -1.69039049e-04,  -1.69386039e-04, ...,\n",
       "          -1.07690445e-04,  -1.25674793e-04,  -1.50348962e-04]],\n",
       "\n",
       "       [[ -2.04023236e-05,  -2.40296940e-05,  -3.37638339e-05, ...,\n",
       "          -3.35889854e-06,   2.27609416e-06,   1.01166042e-05],\n",
       "        [ -1.74668967e-05,  -1.86617544e-05,  -2.90574244e-05, ...,\n",
       "          -3.83262959e-05,  -2.88942538e-05,  -1.45819895e-05],\n",
       "        [ -3.04617133e-05,  -2.94181373e-05,  -3.75507661e-05, ...,\n",
       "          -6.95248309e-05,  -5.56148298e-05,  -3.51741473e-05],\n",
       "        ..., \n",
       "        [ -1.50147622e-04,  -1.32157831e-04,  -1.22874189e-04, ...,\n",
       "          -1.47218190e-04,  -1.49713480e-04,  -1.56322349e-04],\n",
       "        [ -1.50674940e-04,  -1.29465494e-04,  -1.21365141e-04, ...,\n",
       "          -1.55234709e-04,  -1.63519377e-04,  -1.75912894e-04],\n",
       "        [ -1.54018140e-04,  -1.31272580e-04,  -1.24316837e-04, ...,\n",
       "          -1.62873257e-04,  -1.74170200e-04,  -1.87124140e-04]]], dtype=float32)"
      ]
     },
     "execution_count": 29,
     "metadata": {},
     "output_type": "execute_result"
    }
   ],
   "source": [
    "data_cube"
   ]
  },
  {
   "cell_type": "code",
   "execution_count": 23,
   "metadata": {},
   "outputs": [],
   "source": [
    "import sys\n",
    "from PyQt5.QtWidgets import QDialog, QApplication, QPushButton, QVBoxLayout, QLineEdit, QHBoxLayout, QLabel, QSlider, QComboBox\n",
    "from PyQt5 import QtWidgets\n",
    "from matplotlib.backends.backend_qt5agg import FigureCanvasQTAgg as FigureCanvas\n",
    "from matplotlib.backends.backend_qt5agg import NavigationToolbar2QT as NavigationToolbar\n",
    "import matplotlib.pyplot as plt\n",
    "from matplotlib.widgets import SpanSelector\n",
    "import random\n",
    "from matplotlib.figure import Figure\n",
    "from PyQt5.QtCore import Qt\n",
    "%gui qt\n",
    "\n",
    "\n",
    "\n",
    "class SliceViewer(QDialog):\n",
    "    \n",
    "    def __init__(self, volume, parent=None):\n",
    "        super(SliceViewer, self).__init__(parent)\n",
    "        \n",
    "        self.volume = volume\n",
    "        self.time_size, self.inline_size, self.xline_size = self.volume.shape\n",
    "        \n",
    "        self.figure = Figure(figsize=(4, 15))\n",
    "        self.canvas = FigureCanvas(self.figure)\n",
    "        \n",
    "        \n",
    "        self.toolbar = NavigationToolbar(self.canvas, self)\n",
    "        \n",
    "        \n",
    "        self.control_vbox = QVBoxLayout()\n",
    "        self.slider = QSlider()\n",
    "        self.slider.valueChanged[int].connect(self.change_value)\n",
    "        \n",
    "        self.slider.setOrientation(Qt.Vertical)\n",
    "        self.slider.setTickPosition(QSlider.TicksBelow)\n",
    "        self.slider.setTickInterval(1)\n",
    "        self.slider.setMinimum(0)\n",
    "        self.slider.setMaximum(self.inline_size)\n",
    "        \n",
    "        \n",
    "        self.combo = QComboBox(self)\n",
    "        self.combo.addItem(\"INLINE\")\n",
    "        self.combo.addItem(\"XLINE\")\n",
    "        self.combo.addItem(\"TIME\")\n",
    "        self.combo.activated[str].connect(self.combo_changed)  \n",
    "        self.slider_value_label = QLabel('') \n",
    "        \n",
    "        self.control_vbox.addWidget(self.slider_value_label)\n",
    "        self.control_vbox.addWidget(self.slider)\n",
    "                \n",
    "        \n",
    "        self.mpl_vbox = QVBoxLayout()\n",
    "        self.mpl_vbox.addWidget(self.canvas)\n",
    "        self.mpl_vbox.addWidget(self.combo)\n",
    "        self.mpl_vbox.addWidget(self.toolbar)\n",
    "        \n",
    "        \n",
    "        \n",
    "        self.hbox_layout = QHBoxLayout()\n",
    "        self.hbox_layout.addLayout(self.mpl_vbox)\n",
    "        self.hbox_layout.addLayout(self.control_vbox)\n",
    "        \n",
    "        self.combo_changed('INLINE')\n",
    "        self.setLayout(self.hbox_layout)\n",
    "        \n",
    "        \n",
    "    def change_value(self, value):\n",
    "        self.slider_value_label.setText(str(value))\n",
    "        self.show_slice()\n",
    "        \n",
    "    def combo_changed(self, text):\n",
    "        if text =='INLINE':\n",
    "            self.show_type = 'INLINE'\n",
    "            self.slider.setMaximum(self.inline_size)\n",
    "            self.slider.setValue(self.inline_size//2)\n",
    "        elif text == 'XLINE':\n",
    "            self.show_type = 'XLINE'\n",
    "            self.slider.setMaximum(self.xline_size)\n",
    "            self.slider.setValue(self.xline_size//2)\n",
    "        else:\n",
    "            self.show_type = 'TIME'\n",
    "            self.slider.setMaximum(self.time_size)\n",
    "            self.slider.setValue(self.time_size//2)\n",
    "        self.show_slice()\n",
    "            \n",
    "        \n",
    "    def show_slice(self):\n",
    "        self.figure.clear()\n",
    "        if self.show_type == 'INLINE':\n",
    "            to_show = self.volume[:, :, self.slider.value()]\n",
    "        elif self.show_type == 'XLINE':\n",
    "            to_show = self.volume[:, self.slider.value(), :]\n",
    "        else:\n",
    "            to_show = self.volume[self.slider.value(), :, :]\n",
    "            \n",
    "        self.slice_axs = self.figure.add_subplot(111)\n",
    "        self.slice_axs.imshow(to_show, aspect='auto', cmap='seismic')\n",
    "        self.canvas.draw()\n",
    "                  \n",
    "app = QtWidgets.QApplication.instance()\n",
    "if app is None:\n",
    "    app = QtWidgets.QApplication(sys.argv)\n",
    "sliceViewwer = SliceViewer(data_cube)\n",
    "sliceViewwer.show()"
   ]
  },
  {
   "cell_type": "code",
   "execution_count": null,
   "metadata": {},
   "outputs": [],
   "source": []
  },
  {
   "cell_type": "code",
   "execution_count": null,
   "metadata": {},
   "outputs": [],
   "source": []
  }
 ],
 "metadata": {
  "kernelspec": {
   "display_name": "Python 3",
   "language": "python",
   "name": "python3"
  },
  "language_info": {
   "codemirror_mode": {
    "name": "ipython",
    "version": 3
   },
   "file_extension": ".py",
   "mimetype": "text/x-python",
   "name": "python",
   "nbconvert_exporter": "python",
   "pygments_lexer": "ipython3",
   "version": "3.8.1"
  }
 },
 "nbformat": 4,
 "nbformat_minor": 4
}
