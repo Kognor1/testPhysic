{
 "cells": [
  {
   "cell_type": "markdown",
   "metadata": {},
   "source": [
    "# Предобработка каротажей"
   ]
  },
  {
   "cell_type": "markdown",
   "metadata": {},
   "source": [
    "В рамках шага предобработки для каждой скважины производится:\n",
    "* отбор каротажей, определенных на предыдущем шаге для каждой скважины\n",
    "* слияние нескольких каротажей одного типа в один\n",
    "* построение маски коллектор/не коллектор"
   ]
  },
  {
   "cell_type": "code",
   "execution_count": 1,
   "metadata": {},
   "outputs": [],
   "source": [
    "import os\n",
    "import warnings\n",
    "\n",
    "import numpy as np\n",
    "import pandas as pd"
   ]
  },
  {
   "cell_type": "markdown",
   "metadata": {},
   "source": [
    "Определение пути к файлу с результатами интерпретации и его загрузка:"
   ]
  },
  {
   "cell_type": "code",
   "execution_count": 2,
   "metadata": {},
   "outputs": [],
   "source": [
    "INTERPRETATION_PATH = \"path/to/interpretation\"\n",
    "interpretation_df = pd.read_csv(INTERPRETATION_PATH, delimiter=\";\", encoding=\"cp1251\")"
   ]
  },
  {
   "cell_type": "markdown",
   "metadata": {},
   "source": [
    "Определение пути к директории с каротажами в формате `.npy`:"
   ]
  },
  {
   "cell_type": "code",
   "execution_count": 3,
   "metadata": {},
   "outputs": [],
   "source": [
    "WELL_NPY_PATH = \"path/to/npy\""
   ]
  },
  {
   "cell_type": "markdown",
   "metadata": {},
   "source": [
    "Определение пути к директории с результатами предобработки каротажей в формате `.npz`:"
   ]
  },
  {
   "cell_type": "code",
   "execution_count": 4,
   "metadata": {},
   "outputs": [],
   "source": [
    "WELL_NPZ_PATH = \"path/to/npz\"\n",
    "\n",
    "if not os.path.exists(WELL_NPZ_PATH):\n",
    "    os.makedirs(WELL_NPZ_PATH, exist_ok=True)"
   ]
  },
  {
   "cell_type": "markdown",
   "metadata": {},
   "source": [
    "Загрузка наименований каротажей, измеренных для большинства скважин месторождения, полученных на предыдущем шаге:"
   ]
  },
  {
   "cell_type": "code",
   "execution_count": 5,
   "metadata": {},
   "outputs": [],
   "source": [
    "COMMON_MNEMONICS_PATH = \"path/to/common/mnemonics\"\n",
    "common_mnemonics = np.load(COMMON_MNEMONICS_PATH)"
   ]
  },
  {
   "cell_type": "markdown",
   "metadata": {},
   "source": [
    "Загрузка названий скважин, для каждой из которых были сняты все каротажи из выбранного списка:"
   ]
  },
  {
   "cell_type": "code",
   "execution_count": 6,
   "metadata": {},
   "outputs": [],
   "source": [
    "WELL_LIST_PATH = \"path/to/wells\"\n",
    "well_names = np.load(WELL_LIST_PATH)"
   ]
  },
  {
   "cell_type": "markdown",
   "metadata": {},
   "source": [
    "В случае, если для одной скважины было произведено несколько измерений одного и того же типа каротажа, производится их объединение в один. Каждый элемент результирующего картажа — это первый непустой элемент в последовательности значений входных каротажей на той же глубине, упорядоченной по убыванию числа непустых элементов."
   ]
  },
  {
   "cell_type": "code",
   "execution_count": 7,
   "metadata": {},
   "outputs": [],
   "source": [
    "def merge_logs(logs):\n",
    "    priorities = np.sum(~np.isnan(logs), axis=1)\n",
    "    priorities = np.argsort(priorities, kind=\"stable\")[::-1]\n",
    "    merged_curve = np.full(logs.shape[1], np.nan)\n",
    "    for pr in priorities:\n",
    "        merged_curve = np.where(np.isnan(merged_curve), logs[pr], merged_curve)\n",
    "    return merged_curve\n",
    "\n",
    "def select_logs(data, meta, mnemonic):\n",
    "    logs = data[np.where(meta == mnemonic)[0]]\n",
    "    if logs.shape[0] == 1:\n",
    "        return logs[0]\n",
    "    return merge_logs(logs)"
   ]
  },
  {
   "cell_type": "markdown",
   "metadata": {},
   "source": [
    "Построение бинарной маски коллектора на основе данных РИГИС:"
   ]
  },
  {
   "cell_type": "code",
   "execution_count": 8,
   "metadata": {},
   "outputs": [],
   "source": [
    "def find_nearest_index(array, value):\n",
    "    return (np.abs(np.asarray(array) - value)).argmin()\n",
    "\n",
    "def generate_mask(dept, well_name, interpretation_df):\n",
    "    collector_df = interpretation_df[(interpretation_df[\"Номер скважины\"] == well_name) &\n",
    "                                 (interpretation_df[\"Признак коллектора\"] == 1)]\n",
    "    top = collector_df[\"Кровля пропластка\"]\n",
    "    bot = collector_df[\"Подошва пропластка\"]\n",
    "\n",
    "    mask = np.zeros_like(dept)\n",
    "    for t_val, b_val in zip(top, bot):\n",
    "        t_ix = find_nearest_index(dept, t_val)\n",
    "        b_ix = find_nearest_index(dept, b_val)\n",
    "        mask[t_ix:b_ix] = 1\n",
    "\n",
    "    return mask"
   ]
  },
  {
   "cell_type": "markdown",
   "metadata": {},
   "source": [
    "Запуск процесса предобработки:"
   ]
  },
  {
   "cell_type": "code",
   "execution_count": 9,
   "metadata": {},
   "outputs": [
    {
     "name": "stdout",
     "output_type": "stream",
     "text": [
      "CPU times: user 7.76 s, sys: 1.65 s, total: 9.41 s\n",
      "Wall time: 14.8 s\n"
     ]
    }
   ],
   "source": [
    "%%time\n",
    "\n",
    "STEP = 0.1\n",
    "\n",
    "for well_name in well_names:\n",
    "    data = np.load(os.path.join(WELL_NPY_PATH, well_name + \"_data.npy\"))\n",
    "    meta = np.load(os.path.join(WELL_NPY_PATH, well_name + \"_meta.npy\"))\n",
    "\n",
    "    dept = select_logs(data, meta, \"DEPT\")\n",
    "    if not np.allclose(dept[1:] - dept[:-1], STEP):\n",
    "        warnings.warn(f\"The logs of well {well_name} have a DEPT step, different from {STEP}\")\n",
    "    logs = np.array([select_logs(data, meta, mnemonic) for mnemonic in common_mnemonics])\n",
    "    mask = generate_mask(dept, well_name, interpretation_df)\n",
    "\n",
    "    logs_path = os.path.join(WELL_NPZ_PATH, well_name)\n",
    "    np.savez(logs_path, dept=dept, logs=logs, mask=mask, mnemonics=common_mnemonics)"
   ]
  }
 ],
 "metadata": {
  "kernelspec": {
   "display_name": "Python 3",
   "language": "python",
   "name": "python3"
  },
  "language_info": {
   "codemirror_mode": {
    "name": "ipython",
    "version": 3
   },
   "file_extension": ".py",
   "mimetype": "text/x-python",
   "name": "python",
   "nbconvert_exporter": "python",
   "pygments_lexer": "ipython3",
   "version": "3.6.8"
  }
 },
 "nbformat": 4,
 "nbformat_minor": 2
}
