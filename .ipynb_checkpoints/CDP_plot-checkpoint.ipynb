{
 "cells": [
  {
   "cell_type": "code",
   "execution_count": null,
   "metadata": {},
   "outputs": [],
   "source": [
    "filename1='w1_cdp.sgy'\n",
    "\n",
    "f = segyio.open(filename1, ignore_geometry = True)\n",
    "data = segyio.tools.collect(f.trace[:])\n",
    "data = data.T"
   ]
  },
  {
   "cell_type": "code",
   "execution_count": null,
   "metadata": {},
   "outputs": [],
   "source": [
    "plot_seismic.plot_traces(\n",
    "    data[:,0:100].T, time_vertical=True, trace_color='k', \n",
    "    invert_y_axis=True,dt = 2.0,\n",
    "    fill_positive = True,\n",
    "    fig_width=8,\n",
    "    gain=10,\n",
    "    clip=1,\n",
    "    alpha = 1,\n",
    ")"
   ]
  }
 ],
 "metadata": {
  "kernelspec": {
   "display_name": "Python 3",
   "language": "python",
   "name": "python3"
  },
  "language_info": {
   "codemirror_mode": {
    "name": "ipython",
    "version": 3
   },
   "file_extension": ".py",
   "mimetype": "text/x-python",
   "name": "python",
   "nbconvert_exporter": "python",
   "pygments_lexer": "ipython3",
   "version": "3.7.1"
  }
 },
 "nbformat": 4,
 "nbformat_minor": 2
}
