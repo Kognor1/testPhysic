{
 "cells": [
  {
   "cell_type": "code",
   "execution_count": null,
   "metadata": {},
   "outputs": [],
   "source": [
    "wellname = directory+'Z-Zim-1jgw.las'\n",
    "f = open(wellname, 'r', encoding='utf-8', errors='ignore')\n",
    "o = 0\n",
    "Depth = []\n",
    "TVD = []\n",
    "TVDSS = []\n",
    "DELTAX = []\n",
    "DELTAY = []\n",
    "DTS = []\n",
    "DT = []\n",
    "RHOB = []\n",
    "\n",
    "for line in f.readlines():\n",
    "    if o >= 43:\n",
    "        Depth.append(np.float(line.split()[0]))\n",
    "        TVD.append(np.float(line.split()[1]))\n",
    "        TVDSS.append(np.float(line.split()[2]))\n",
    "        DELTAX.append(np.float(line.split()[3]))\n",
    "        DELTAY.append(np.float(line.split()[4]))\n",
    "        DTS.append(np.float(line.split()[5]))\n",
    "        DT.append(np.float(line.split()[6]))\n",
    "        RHOB.append(np.float(line.split()[7]))       \n",
    "    o += 1\n",
    "    \n",
    "well = pd.DataFrame({'Depth':Depth,'TVD':TVD,'TVDSS':TVDSS,'DELTAX':DELTAX,'DELTAY':DELTAY,'DTS':DTS,'DT':DT,'RHOB':RHOB})"
   ]
  },
  {
   "cell_type": "code",
   "execution_count": null,
   "metadata": {},
   "outputs": [],
   "source": [
    "wellname = directory+'Z-Zim-1_TIME.las'\n",
    "f = open(wellname, 'r', encoding='utf-8', errors='ignore')\n",
    "o = 0\n",
    "Depth = []\n",
    "TVDSS = []\n",
    "Time = []\n",
    "\n",
    "\n",
    "for line in f.readlines():\n",
    "    if o >= 43:\n",
    "        Depth.append(np.float(line.split()[0]))\n",
    "        TVDSS.append(np.float(line.split()[1]))\n",
    "        Time.append(np.float(line.split()[2]))       \n",
    "    o += 1\n",
    "    \n",
    "# well['Depth_T']=Depth\n",
    "# well['TVDSS_T']=TVDSS_T\n",
    "# well['Time']=Time\n",
    "well_T = pd.DataFrame({'Depth_T':Depth,'TVDSS_T':TVDSS,'Time':Time})"
   ]
  },
  {
   "cell_type": "code",
   "execution_count": null,
   "metadata": {},
   "outputs": [],
   "source": [
    "well=well.merge(well_T,left_on='Depth', right_on='Depth_T')\n",
    "\n",
    "ind=well[well['RHOB'] == -999.25 ].index\n",
    "well=well.drop(ind, axis=0)\n",
    "well=well.reset_index(drop=True)"
   ]
  },
  {
   "cell_type": "code",
   "execution_count": null,
   "metadata": {},
   "outputs": [],
   "source": [
    "plt.rcParams.update({'font.size': 14})\n",
    "fig,axs = plt.subplots(figsize = (10,5))\n",
    "axs.plot(well['RHOB'],well['Time'],linewidth = 2)"
   ]
  }
 ],
 "metadata": {
  "kernelspec": {
   "display_name": "Python 3",
   "language": "python",
   "name": "python3"
  },
  "language_info": {
   "codemirror_mode": {
    "name": "ipython",
    "version": 3
   },
   "file_extension": ".py",
   "mimetype": "text/x-python",
   "name": "python",
   "nbconvert_exporter": "python",
   "pygments_lexer": "ipython3",
   "version": "3.7.1"
  }
 },
 "nbformat": 4,
 "nbformat_minor": 2
}
