{
 "cells": [
  {
   "cell_type": "markdown",
   "metadata": {},
   "source": [
    "# Определение общих каротажей"
   ]
  },
  {
   "cell_type": "code",
   "execution_count": 1,
   "metadata": {},
   "outputs": [],
   "source": [
    "import os\n",
    "import re\n",
    "\n",
    "import numpy as np\n",
    "import pandas as pd\n",
    "from mlxtend.preprocessing import TransactionEncoder\n",
    "from mlxtend.frequent_patterns import apriori"
   ]
  },
  {
   "cell_type": "markdown",
   "metadata": {},
   "source": [
    "Определение пути к директории с каротажами в формате `.npy`, полученными на предыдущем этапе:"
   ]
  },
  {
   "cell_type": "code",
   "execution_count": 2,
   "metadata": {},
   "outputs": [],
   "source": [
    "WELL_NPY_PATH = \"path/to/npy\""
   ]
  },
  {
   "cell_type": "markdown",
   "metadata": {},
   "source": [
    "Определение пути к выходному файлу со списком общих каротажей:"
   ]
  },
  {
   "cell_type": "code",
   "execution_count": 3,
   "metadata": {},
   "outputs": [],
   "source": [
    "COMMON_MNEMONICS_PATH = \"path/to/common/mnemonics\""
   ]
  },
  {
   "cell_type": "markdown",
   "metadata": {},
   "source": [
    "Определение пути к выходному файлу со списком скважин, для каждой из которых были сняты все каротажи из выбранного списка:"
   ]
  },
  {
   "cell_type": "code",
   "execution_count": 4,
   "metadata": {},
   "outputs": [],
   "source": [
    "WELL_LIST_PATH = \"path/to/wells\""
   ]
  },
  {
   "cell_type": "markdown",
   "metadata": {},
   "source": [
    "Определение множества каротажей, измеренных для всех скважин месторождения:"
   ]
  },
  {
   "cell_type": "code",
   "execution_count": 5,
   "metadata": {},
   "outputs": [],
   "source": [
    "well_names = [file.split(\"_\")[0] for file in os.listdir(WELL_NPY_PATH)\n",
    "              if re.fullmatch(\"\\d+_meta\\.npy\", file) is not None]"
   ]
  },
  {
   "cell_type": "code",
   "execution_count": 6,
   "metadata": {},
   "outputs": [],
   "source": [
    "mnemonics_dict = {}\n",
    "for well_name in well_names:\n",
    "    mnemonics = set(np.load(os.path.join(WELL_NPY_PATH, well_name + \"_meta.npy\")))\n",
    "    mnemonics_dict[well_name] = mnemonics"
   ]
  },
  {
   "cell_type": "markdown",
   "metadata": {},
   "source": [
    "Такой каротаж только один — каротаж потенциала собственной поляризации:"
   ]
  },
  {
   "cell_type": "code",
   "execution_count": 7,
   "metadata": {},
   "outputs": [
    {
     "data": {
      "text/plain": [
       "{'SP'}"
      ]
     },
     "execution_count": 7,
     "metadata": {},
     "output_type": "execute_result"
    }
   ],
   "source": [
    "common_mnemonics = set.intersection(*mnemonics_dict.values()) - {\"DEPT\"}\n",
    "common_mnemonics"
   ]
  },
  {
   "cell_type": "markdown",
   "metadata": {},
   "source": [
    "Определим максимальное по мощности множество каротажей, одновременно измеренных как минимум для 90% скважин:"
   ]
  },
  {
   "cell_type": "code",
   "execution_count": 8,
   "metadata": {},
   "outputs": [],
   "source": [
    "MIN_SUPPORT = 0.9\n",
    "\n",
    "te = TransactionEncoder()\n",
    "mnemonics_te = te.fit_transform(mnemonics_dict.values())\n",
    "mnemonics_df = pd.DataFrame(mnemonics_te, columns=te.columns_)\n",
    "apriori_df = apriori(mnemonics_df, min_support=MIN_SUPPORT, use_colnames=True)\n",
    "apriori_df = apriori_df.sort_values(by=[\"support\"], ascending=False)"
   ]
  },
  {
   "cell_type": "code",
   "execution_count": 9,
   "metadata": {},
   "outputs": [],
   "source": [
    "common_mnemonics = max(apriori_df[\"itemsets\"], key=lambda x: (len(x), \"\".join(sorted(x)))) - {\"DEPT\"}\n",
    "well_names = [name for name in sorted(mnemonics_dict.keys()) if common_mnemonics < mnemonics_dict[name]]\n",
    "\n",
    "well_names = np.array(well_names)\n",
    "np.save(WELL_LIST_PATH, well_names)\n",
    "\n",
    "common_mnemonics = np.array(sorted(common_mnemonics))\n",
    "np.save(COMMON_MNEMONICS_PATH, common_mnemonics)"
   ]
  },
  {
   "cell_type": "markdown",
   "metadata": {},
   "source": [
    "В него входят 12 каротажей:"
   ]
  },
  {
   "cell_type": "code",
   "execution_count": 10,
   "metadata": {},
   "outputs": [
    {
     "data": {
      "text/plain": [
       "array(['CFTC', 'CILD', 'GR', 'GZ1', 'GZ2', 'GZ3', 'GZ4', 'GZ7', 'LLD',\n",
       "       'NKTD', 'PROX', 'SP'], dtype='<U4')"
      ]
     },
     "execution_count": 10,
     "metadata": {},
     "output_type": "execute_result"
    }
   ],
   "source": [
    "common_mnemonics"
   ]
  },
  {
   "cell_type": "markdown",
   "metadata": {},
   "source": [
    "Эти каротажи измерены для 321 скважины:"
   ]
  },
  {
   "cell_type": "code",
   "execution_count": 11,
   "metadata": {},
   "outputs": [
    {
     "data": {
      "text/plain": [
       "321"
      ]
     },
     "execution_count": 11,
     "metadata": {},
     "output_type": "execute_result"
    }
   ],
   "source": [
    "len(well_names)"
   ]
  }
 ],
 "metadata": {
  "kernelspec": {
   "display_name": "Python 3",
   "language": "python",
   "name": "python3"
  },
  "language_info": {
   "codemirror_mode": {
    "name": "ipython",
    "version": 3
   },
   "file_extension": ".py",
   "mimetype": "text/x-python",
   "name": "python",
   "nbconvert_exporter": "python",
   "pygments_lexer": "ipython3",
   "version": "3.6.8"
  }
 },
 "nbformat": 4,
 "nbformat_minor": 2
}
