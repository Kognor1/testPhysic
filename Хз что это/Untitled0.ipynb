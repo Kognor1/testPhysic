{
 "cells": [
  {
   "cell_type": "code",
   "execution_count": 1,
   "metadata": {
    "colab": {},
    "colab_type": "code",
    "id": "G8WGQZNjttpO"
   },
   "outputs": [],
   "source": [
    "import pandas as pd\n",
    "import numpy as np\n",
    "import pylab as plt\n",
    "import segyio\n",
    "import SegRead as s\n",
    "import os\n",
    "import sys\n",
    "from seislab.src import segyrw \n",
    "from seislab.src import plot_seismic\n",
    "from LAS import Converter\n",
    "from scipy import signal\n",
    "from scipy.signal import medfilt\n",
    "import laspy\n",
    "from sklearn.linear_model import LinearRegression\n",
    "from docx import Document\n",
    "from numpy.linalg import solve\n",
    "from matplotlib.colors import Normalize\n",
    "from laspy.file import File\n",
    "%load_ext autoreload\n",
    "%autoreload 2"
   ]
  },
  {
   "cell_type": "code",
   "execution_count": null,
   "metadata": {},
   "outputs": [],
   "source": []
  },
  {
   "cell_type": "code",
   "execution_count": null,
   "metadata": {},
   "outputs": [],
   "source": []
  },
  {
   "cell_type": "markdown",
   "metadata": {
    "colab_type": "text",
    "id": "Qg_50ahKtmOo"
   },
   "source": [
    "# New Section"
   ]
  },
  {
   "cell_type": "code",
   "execution_count": 2,
   "metadata": {
    "colab": {},
    "colab_type": "code",
    "id": "zsIsAb64ekim"
   },
   "outputs": [],
   "source": [
    "from seislab.src import segyrw \n",
    "\n",
    "directory = ''\n",
    "filename = directory+'307_Stk_w1.sgy'\n",
    "sys.path.append('seislab')\n",
    "\n",
    "ss = s.Seg.SegReader()\n",
    "ss.open(filename)\n",
    "data = ss.get_data()\n",
    "data = data.T\n",
    "\n",
    "\n",
    "head = segyrw.read_header_segyio_full(filename)\n",
    "dt = 2 # Дискретизация (считывать из хэдеров?)\n",
    "\n",
    "\n",
    "Tdata=np.arange(0,np.shape(data)[0]*dt,dt)/1000  # вектор врмеен для сейсмики"
   ]
  },
  {
   "cell_type": "code",
   "execution_count": 3,
   "metadata": {
    "colab": {
     "base_uri": "https://localhost:8080/",
     "height": 507,
     "referenced_widgets": [
      "7c5370f80cc24de08307347be1e23206",
      "69d3a4f615cd4451acd814e9cd90de6e",
      "e97f987db74a4fac857c8c4012e83318",
      "91a503d64fbb424faa7c234a95d25b29",
      "9c811c081fcb4603985e0f3c7c2c2227",
      "881222b2031f4270826072ccf7834d2a",
      "b42bb2a047944a6f8ee7c02c49d47c7f",
      "ff7c5d52f0f64287bf180da63258fd1e",
      "768951671b8b41ea982a0bcf852044a2",
      "58e392779b794862af88840c4dcd2b5f"
     ]
    },
    "colab_type": "code",
    "id": "4hFZnAbgBQjp",
    "outputId": "ff6846de-86cb-423d-d3a2-7e1da431d352"
   },
   "outputs": [
    {
     "data": {
      "application/vnd.jupyter.widget-view+json": {
       "model_id": "75506b6e51a54c36b147801e2f19aeb8",
       "version_major": 2,
       "version_minor": 0
      },
      "text/plain": [
       "interactive(children=(IntSlider(value=42036, description='cdp', max=58016, min=26196, step=72), IntSlider(valu…"
      ]
     },
     "metadata": {},
     "output_type": "display_data"
    }
   ],
   "source": [
    "from ipywidgets import widgets\n",
    "\n",
    "cdp_min, cdp_max, time_min, time_max = [head['CDP_TRACE'].min(), head['CDP_TRACE'].max(), 0, dt * data.shape[0]]\n",
    "time_step = dt\n",
    "cdp_step = (cdp_max - cdp_min) // data.shape[1]\n",
    "(cdp_min, cdp_max, cdp_step),  (time_min, time_max, time_step)\n",
    "\n",
    "\n",
    "@widgets.interact(cdp=(cdp_min, cdp_max, cdp_step), time=(time_min, time_max, time_step))\n",
    "def update(cdp, time):\n",
    "    global selected_data\n",
    "    \"\"\"Remove old lines from plot and plot new one\"\"\"\n",
    "    fig, axs = plt.subplots(figsize = (14,7))\n",
    "    axs.set_xlabel('CDP')\n",
    "    axs.set_ylabel('T, ms')\n",
    "    \n",
    "    time_top = time//time_step\n",
    "    cdp_top = (cdp - cdp_min)//cdp_step\n",
    "    #print(cdp_top)\n",
    "    if time_top != 0 and cdp_top != 0:\n",
    "        im = axs.imshow(data[:time_top, :cdp_top], cmap='seismic', aspect='auto', \n",
    "                    extent = [head['CDP_TRACE'].min(), cdp, time, 0]\n",
    "                    )\n",
    "        fig.colorbar(im, ax=axs)"
   ]
  },
  {
   "cell_type": "code",
   "execution_count": 4,
   "metadata": {
    "colab": {
     "base_uri": "https://localhost:8080/",
     "height": 344
    },
    "colab_type": "code",
    "id": "2eFEhO0YBcq9",
    "outputId": "ec56886c-a543-4ebb-c248-29ff077eb159"
   },
   "outputs": [
    {
     "data": {
      "text/plain": [
       "[<matplotlib.lines.Line2D at 0x236a4aa5820>]"
      ]
     },
     "execution_count": 4,
     "metadata": {},
     "output_type": "execute_result"
    },
    {
     "data": {
      "image/png": "[encoded data removed]",
      "text/plain": [
       "<Figure size 720x360 with 1 Axes>"
      ]
     },
     "metadata": {
      "needs_background": "light"
     },
     "output_type": "display_data"
    }
   ],
   "source": [
    "fig,axs = plt.subplots(figsize = (10,5))\n",
    "axs.plot(head['CDP_X'],head['CDP_Y'],linewidth = 0,marker='.')"
   ]
  },
  {
   "cell_type": "code",
   "execution_count": 5,
   "metadata": {
    "colab": {},
    "colab_type": "code",
    "id": "iL59dIhvp1FT"
   },
   "outputs": [],
   "source": [
    "xline_size = head['XLINE'].values.max() - head['XLINE'].values.min()\n",
    "yline_size = head['INLINE'].values.max() - head['INLINE'].values.min()\n",
    "data_cube = data.reshape((xline_size + 1, yline_size + 1, data.shape[0]))"
   ]
  },
  {
   "cell_type": "code",
   "execution_count": 6,
   "metadata": {
    "colab": {
     "base_uri": "https://localhost:8080/",
     "height": 490,
     "referenced_widgets": [
      "f4c6e104462d43a7b7bfc7f6aa67fa88",
      "fb070527145349e69b9533e553546d87",
      "280a5d04b0cd49318c66fbc4ace6ff71",
      "cfb54123139544259b8c5a3f1aefbdc7",
      "de2a521eceba4c979d13f012cdb6ffa1",
      "5b12261c5a5148489ba705f1ac05decd",
      "19cd7f663033482e9994334522c7acfe",
      "0a4fa57decd045738701d0b308226b42",
      "def1d111267e4f2f9565320cffbeb5a1",
      "8d8cc4f03ad7404a841b7b272ed3f65d",
      "729f818c41854f02b3b72d0bd9554af0",
      "8154328b619c48d0863c2f73815c508f",
      "8acbc38a55324c688811d2e114f9286f"
     ]
    },
    "colab_type": "code",
    "id": "vTcP0kHuCTHW",
    "outputId": "b00953b9-c7a4-4537-8dd6-33ff7977a1f5"
   },
   "outputs": [
    {
     "data": {
      "application/vnd.jupyter.widget-view+json": {
       "model_id": "91dca88aee754c2381152ae024caf267",
       "version_major": 2,
       "version_minor": 0
      },
      "text/plain": [
       "interactive(children=(IntSlider(value=10, description='inline', max=20), IntSlider(value=10, description='xlin…"
      ]
     },
     "metadata": {},
     "output_type": "display_data"
    },
    {
     "data": {
      "text/plain": [
       "<function __main__.explore_cube.<locals>.show_cube(inline, xline, w)>"
      ]
     },
     "execution_count": 6,
     "metadata": {},
     "output_type": "execute_result"
    }
   ],
   "source": [
    "from matplotlib.pyplot import draw\n",
    "%matplotlib inline\n",
    "\n",
    "def explore_cube(data_cube, head):\n",
    "    inlines_count, xlines_count = data_cube.shape[:-1]\n",
    "    inline_min = head['INLINE'].min()\n",
    "    xline_min = head['XLINE'].min()\n",
    "\n",
    "    tw = widgets.ToggleButtons(\n",
    "        options=['INLINE', 'XLINE'],\n",
    "        description='DIM:',\n",
    "        disabled=False,\n",
    "        button_style='', # 'success', 'info', 'warning', 'danger' or ''\n",
    "    )\n",
    "    \n",
    "    @widgets.interact(inline=(0, inlines_count - 1), xline=(0, xlines_count - 1), w = tw)\n",
    "    def show_cube(inline, xline, w):\n",
    "        fig, axs = plt.subplots(1, 2, figsize = (24,7), gridspec_kw={'width_ratios': [3, 1]})\n",
    "        if w == 'INLINE':\n",
    "            sub_head = head[head[w] == inline_min + inline] \n",
    "            to_show = data_cube[inline, :, :]\n",
    "        else:\n",
    "            sub_head = head[head[w] == xline_min + xline] \n",
    "            to_show = data_cube[xline, :, :]\n",
    "\n",
    "        cdp_x_active = sub_head['CDP_X']\n",
    "        cdp_y_active = sub_head['CDP_Y']\n",
    "        axs[0].imshow(to_show, cmap='seismic', aspect='auto')\n",
    "        axs[1].plot(head['CDP_X'], head['CDP_Y'], 'b.')\n",
    "        axs[1].plot(cdp_x_active, cdp_y_active, 'r*')\n",
    "        plt.show()\n",
    "    return show_cube\n",
    "explore_cube(data_cube, head)"
   ]
  },
  {
   "cell_type": "code",
   "execution_count": null,
   "metadata": {
    "colab": {},
    "colab_type": "code",
    "id": "x3UKOundrWC-"
   },
   "outputs": [],
   "source": []
  },
  {
   "cell_type": "code",
   "execution_count": null,
   "metadata": {},
   "outputs": [],
   "source": []
  },
  {
   "cell_type": "code",
   "execution_count": null,
   "metadata": {},
   "outputs": [],
   "source": []
  },
  {
   "cell_type": "code",
   "execution_count": null,
   "metadata": {},
   "outputs": [],
   "source": []
  }
 ],
 "metadata": {
  "colab": {
   "name": "Untitled0.ipynb",
   "provenance": []
  },
  "kernelspec": {
   "display_name": "Python 3",
   "language": "python",
   "name": "python3"
  },
  "language_info": {
   "codemirror_mode": {
    "name": "ipython",
    "version": 3
   },
   "file_extension": ".py",
   "mimetype": "text/x-python",
   "name": "python",
   "nbconvert_exporter": "python",
   "pygments_lexer": "ipython3",
   "version": "3.8.1"
  }
 },
 "nbformat": 4,
 "nbformat_minor": 4
}
